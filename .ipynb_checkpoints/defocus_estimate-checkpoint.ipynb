{
 "cells": [
  {
   "cell_type": "code",
   "execution_count": 1,
   "metadata": {},
   "outputs": [],
   "source": [
    "import cv2\n",
    "import numpy as np\n",
    "import scipy.ndimage\n",
    "import scipy.sparse\n",
    "import scipy.sparse.linalg\n"
   ]
  },
  {
   "cell_type": "code",
   "execution_count": 15,
   "metadata": {},
   "outputs": [],
   "source": [
    "from skimage import feature\n",
    "from matplotlib import pyplot as plt\n",
    "%matplotlib inline"
   ]
  },
  {
   "cell_type": "code",
   "execution_count": 3,
   "metadata": {},
   "outputs": [],
   "source": [
    "def make_system(L, sparse_map, constraint_factor=0.001):\n",
    "    '''\n",
    "\n",
    "    :param L:\n",
    "    :param sparse_map:\n",
    "    :param constraint_factor:\n",
    "    :return:\n",
    "    '''\n",
    "    # split trimap into foreground, background, known and unknown masks\n",
    "    spflatten = sparse_map.ravel()\n",
    "\n",
    "    D = scipy.sparse.diags(spflatten)\n",
    "\n",
    "    # combine constraints and graph laplacian\n",
    "    A = constraint_factor * D + L\n",
    "    # constrained values of known alpha values\n",
    "    b = constraint_factor * D * spflatten\n",
    "\n",
    "    return A, b\n",
    "\n",
    "\n",
    "def g1x(x, y, s1):\n",
    "    '''\n",
    "\n",
    "    :param x:\n",
    "    :param y:\n",
    "    :param s1:\n",
    "    :return:\n",
    "    '''\n",
    "    s1sq = s1 ** 2\n",
    "    g = -1 * np.multiply(np.divide(x, 2 * np.pi * s1sq ** 2),\n",
    "                         np.exp(-1 * np.divide(x ** 2 + y ** 2, 2 * s1sq)))\n",
    "\n",
    "    return g\n",
    "\n",
    "\n",
    "def g1y(x, y, s1):\n",
    "    '''\n",
    "\n",
    "    :param x:\n",
    "    :param y:\n",
    "    :param s1:\n",
    "    :return:\n",
    "    '''\n",
    "    s1sq = s1 ** 2\n",
    "    g = -1 * np.multiply(np.divide(y, 2 * np.pi * s1sq ** 2),\n",
    "                         np.exp(-1 * np.divide(x ** 2 + y ** 2, 2 * s1sq)))\n",
    "\n",
    "    return g\n",
    "\n",
    "\n",
    "def get_laplacian(I, r=1):\n",
    "    '''\n",
    "\n",
    "    :param I:\n",
    "    :param r:\n",
    "    :return:\n",
    "    '''\n",
    "    eps = 0.0000001\n",
    "    h, w, c = I.shape\n",
    "    wr = (2 * r + 1) * (2 * r + 1)\n",
    "\n",
    "    M_idx = np.arange(h * w).reshape(w, h).T\n",
    "    n_vals = (w - 2 * r) * (h - 2 * r) * wr ** 2\n",
    "\n",
    "    # data for matting laplacian in coordinate form\n",
    "    row_idx = np.zeros(n_vals, dtype=np.int64)\n",
    "    col_idx = np.zeros(n_vals, dtype=np.int64)\n",
    "    vals = np.zeros(n_vals, dtype=np.float64)\n",
    "    lenr = 0\n",
    "\n",
    "    for j in range(r, h - r):\n",
    "        for i in range(r, w - r):\n",
    "            winr = I[j - r:j + r + 1, i - r:i + r + 1, 2]\n",
    "            wing = I[j - r:j + r + 1, i - r:i + r + 1, 1]\n",
    "            winb = I[j - r:j + r + 1, i - r:i + r + 1, 0]\n",
    "            win_idx = M_idx[j - r:j + r + 1, i - r:i + r + 1].T.ravel()\n",
    "\n",
    "            meanwinr = winr.mean()\n",
    "            winrsq = np.multiply(winr, winr)\n",
    "            varI_rr = winrsq.sum() / wr - meanwinr ** 2\n",
    "\n",
    "            meanwing = wing.mean()\n",
    "            wingsq = np.multiply(wing, wing)\n",
    "            varI_gg = wingsq.sum() / wr - meanwing ** 2\n",
    "\n",
    "            meanwinb = winb.mean()\n",
    "            winbsq = np.multiply(winb, winb)\n",
    "            varI_bb = winbsq.sum() / wr - meanwinb ** 2\n",
    "\n",
    "            winrgsq = np.multiply(winr, wing)\n",
    "            varI_rg = winrgsq.sum() / wr - meanwinr * meanwing\n",
    "\n",
    "            winrbsq = np.multiply(winr, winb)\n",
    "            varI_rb = winrbsq.sum() / wr - meanwinr * meanwinb\n",
    "\n",
    "            wingbsq = np.multiply(wing, winb)\n",
    "            varI_gb = wingbsq.sum() / wr - meanwing * meanwinb\n",
    "\n",
    "            Sigma = np.array([[varI_rr, varI_rg, varI_rb],\n",
    "                              [varI_rg, varI_gg, varI_gb],\n",
    "                              [varI_rb, varI_gb, varI_bb]])\n",
    "\n",
    "            meanI = np.array([meanwinr, meanwing, meanwinb])\n",
    "\n",
    "            Sigma = Sigma + eps * np.eye(3)\n",
    "\n",
    "            winI = np.zeros((wr, c))\n",
    "\n",
    "            winI[:, 0] = winr.T.ravel()\n",
    "            winI[:, 1] = wing.T.ravel()\n",
    "            winI[:, 2] = winb.T.ravel()\n",
    "\n",
    "            winI = winI - meanI\n",
    "\n",
    "            inv_cov = np.linalg.inv(Sigma)\n",
    "            tvals = (1 + np.matmul(np.matmul(winI, inv_cov), winI.T)) / wr\n",
    "\n",
    "            row_idx[lenr:wr ** 2 + lenr] = np.tile(win_idx, (1, wr)).ravel()\n",
    "            col_idx[lenr:wr ** 2 + lenr] = np.tile(win_idx, (wr, 1)).T.ravel()\n",
    "            vals[lenr:wr ** 2 + lenr] = tvals.T.ravel()\n",
    "\n",
    "            lenr += wr ** 2\n",
    "\n",
    "    # Lsparse = scipy.sparse.coo_matrix((vals, (row_idx, col_idx)), shape=(h*w, h*w))\n",
    "    Lsparse = scipy.sparse.coo_matrix((vals, (row_idx, col_idx)), shape=(w * h, w * h))\n",
    "\n",
    "    row_idx2 = np.zeros(w * h, dtype=np.int64)\n",
    "    col_idx2 = np.zeros(w * h, dtype=np.int64)\n",
    "    vals2 = np.zeros(w * h, dtype=np.float64)\n",
    "\n",
    "    row_idx2[:] = np.arange(w * h)\n",
    "    col_idx2[:] = np.arange(w * h)\n",
    "    vals2[:] = Lsparse.sum(axis=1).ravel()\n",
    "\n",
    "    LDsparse = scipy.sparse.coo_matrix((vals2, (row_idx2, col_idx2)), shape=(w * h, w * h))\n",
    "\n",
    "    return LDsparse - Lsparse\n",
    "\n",
    "\n",
    "def propagate_laplacian(img, bmap, mask):\n",
    "    '''\n",
    "\n",
    "    :param img:\n",
    "    :param bmap:\n",
    "    :return:\n",
    "    '''\n",
    "\n",
    "    L1 = get_laplacian(img / 255.0)\n",
    "\n",
    "#    gimg = cv2.cvtColor(img, cv2.COLOR_BGR2GRAY) / 255.0\n",
    "#    mask = feature.canny(gimg, 1.0) * 1.0\n",
    "    h, w = mask.shape\n",
    "\n",
    "    maskcoord = np.where(mask == 1.0)\n",
    "    mask[maskcoord[0], maskcoord[1]] = bmap[maskcoord[0], maskcoord[1]]\n",
    "    A, b = make_system(L1, mask.T)\n",
    "\n",
    "    bmapLaplacian = scipy.sparse.linalg.spsolve(A, b).reshape(w, h).T\n",
    "\n",
    "    return bmapLaplacian\n",
    "\n"
   ]
  },
  {
   "cell_type": "code",
   "execution_count": 12,
   "metadata": {},
   "outputs": [],
   "source": [
    "\n",
    "def estimate_sparse_blur(gimg, edge_map, std1, std2):\n",
    "    '''\n",
    "\n",
    "    :param gimg:\n",
    "    :param edge_map:\n",
    "    :param std1:\n",
    "    :param std2:\n",
    "    :return:\n",
    "    '''\n",
    "    half_window = 11\n",
    "    m = half_window * 2 + 1\n",
    "    a = np.arange(-half_window, half_window + 1)\n",
    "    xmesh = np.tile(a, (m, 1))\n",
    "    ymesh = xmesh.T\n",
    "\n",
    "    f11 = g1x(xmesh, ymesh, std1)\n",
    "    f12 = g1y(xmesh, ymesh, std1)\n",
    "\n",
    "    f21 = g1x(xmesh, ymesh, std2)\n",
    "    f22 = g1y(xmesh, ymesh, std2)\n",
    "\n",
    "    gimx1 = scipy.ndimage.convolve(gimg, f11, mode='nearest')\n",
    "    gimy1 = scipy.ndimage.convolve(gimg, f12, mode='nearest')\n",
    "    mg1 = np.sqrt(gimx1 ** 2 + gimy1 ** 2)\n",
    "\n",
    "    gimx2 = scipy.ndimage.convolve(gimg, f21, mode='nearest')\n",
    "    gimy2 = scipy.ndimage.convolve(gimg, f22, mode='nearest')\n",
    "    mg2 = np.sqrt(gimx2 ** 2 + gimy2 ** 2)\n",
    "\n",
    "    R = np.divide(mg1, mg2)\n",
    "    R = np.multiply(R, edge_map > 0)\n",
    "\n",
    "    sparse_vals = np.divide(R ** 2 * (std1 ** 2) - (std2 ** 2), 1 - R ** 2)\n",
    "    sparse_vals[sparse_vals < 0] = 0\n",
    "\n",
    "    sparse_bmap = np.sqrt(sparse_vals)\n",
    "    sparse_bmap[np.isnan(sparse_bmap)] = 0\n",
    "    sparse_bmap[sparse_bmap > 5] = 5\n",
    "\n",
    "    return sparse_bmap"
   ]
  },
  {
   "cell_type": "code",
   "execution_count": 26,
   "metadata": {},
   "outputs": [],
   "source": [
    "img = cv2.imread('input2.png')\n",
    "gimg = cv2.cvtColor(img, cv2.COLOR_BGR2GRAY) / 255.0\n",
    "sigma_c = 2\n",
    "edge_map = feature.canny(gimg, sigma_c) * 1.0"
   ]
  },
  {
   "cell_type": "code",
   "execution_count": 27,
   "metadata": {},
   "outputs": [
    {
     "data": {
      "text/plain": [
       "<matplotlib.image.AxesImage at 0x7f8bce2aeba8>"
      ]
     },
     "execution_count": 27,
     "metadata": {},
     "output_type": "execute_result"
    },
    {
     "data": {
      "image/png": "[encoded data removed]",
      "text/plain": [
       "<Figure size 432x288 with 1 Axes>"
      ]
     },
     "metadata": {
      "needs_background": "light"
     },
     "output_type": "display_data"
    }
   ],
   "source": [
    "plt.imshow(edge_map)"
   ]
  },
  {
   "cell_type": "code",
   "execution_count": 13,
   "metadata": {},
   "outputs": [],
   "source": [
    "std1 = 1\n",
    "std2 = 1.5\n",
    "sparse_bmap = estimate_sparse_blur(gimg, edge_map, std1, std2)"
   ]
  },
  {
   "cell_type": "code",
   "execution_count": 20,
   "metadata": {},
   "outputs": [],
   "source": [
    "bmap = propagate_laplacian(img, sparse_bmap)"
   ]
  },
  {
   "cell_type": "code",
   "execution_count": 22,
   "metadata": {},
   "outputs": [
    {
     "data": {
      "text/plain": [
       "<matplotlib.image.AxesImage at 0x7f8c522cfe80>"
      ]
     },
     "execution_count": 22,
     "metadata": {},
     "output_type": "execute_result"
    },
    {
     "data": {
      "image/png": "[encoded data removed]",
      "text/plain": [
       "<Figure size 288x288 with 1 Axes>"
      ]
     },
     "metadata": {
      "needs_background": "light"
     },
     "output_type": "display_data"
    }
   ],
   "source": [
    "plt.matshow(bmap, cmap='gray')\n"
   ]
  },
  {
   "cell_type": "code",
   "execution_count": 29,
   "metadata": {},
   "outputs": [],
   "source": [
    "L1 = get_laplacian(img / 255.0)"
   ]
  },
  {
   "cell_type": "code",
   "execution_count": 40,
   "metadata": {},
   "outputs": [
    {
     "data": {
      "text/plain": [
       "matrix([[ 0.82052458, -0.16226881,  0.01724135,  0.        ,  0.        ],\n",
       "        [-0.16226881,  1.43733402, -0.10622054, -0.03900575,  0.        ],\n",
       "        [ 0.01724135, -0.10622054,  0.6961112 , -0.15059815,  0.131491  ],\n",
       "        [ 0.        , -0.03900575, -0.15059815,  1.42499981, -0.73386584],\n",
       "        [ 0.        ,  0.        ,  0.131491  , -0.73386584,  1.64529967],\n",
       "        [ 0.        ,  0.        ,  0.        , -0.03830775, -0.43135866],\n",
       "        [ 0.        ,  0.        ,  0.        ,  0.        , -0.13045368],\n",
       "        [ 0.        ,  0.        ,  0.        ,  0.        ,  0.        ],\n",
       "        [ 0.        ,  0.        ,  0.        ,  0.        ,  0.        ],\n",
       "        [ 0.        ,  0.        ,  0.        ,  0.        ,  0.        ],\n",
       "        [ 0.        ,  0.        ,  0.        ,  0.        ,  0.        ],\n",
       "        [ 0.        ,  0.        ,  0.        ,  0.        ,  0.        ],\n",
       "        [ 0.        ,  0.        ,  0.        ,  0.        ,  0.        ],\n",
       "        [ 0.        ,  0.        ,  0.        ,  0.        ,  0.        ],\n",
       "        [ 0.        ,  0.        ,  0.        ,  0.        ,  0.        ]])"
      ]
     },
     "execution_count": 40,
     "metadata": {},
     "output_type": "execute_result"
    }
   ],
   "source": [
    "L1[:15,:5].todense()"
   ]
  },
  {
   "cell_type": "code",
   "execution_count": null,
   "metadata": {},
   "outputs": [],
   "source": [
    "\n",
    "\n",
    "\n",
    "def estimate_bmap_laplacian(img, sigma_c, std1, std2):\n",
    "    '''\n",
    "\n",
    "    :param img:\n",
    "    :param sigma_c:\n",
    "    :param std1:\n",
    "    :param std2:\n",
    "    :return:\n",
    "    '''\n",
    "    gimg = cv2.cvtColor(img, cv2.COLOR_BGR2GRAY) / 255.0\n",
    "    edge_map = feature.canny(gimg, sigma_c)\n",
    "\n",
    "    sparse_bmap = estimate_sparse_blur(gimg, edge_map, std1, std2)\n",
    "    # h, w = sparse_bmap.shape\n",
    "\n",
    "    bmap = propagate_laplacian(img, sparse_bmap)\n",
    "\n",
    "    # L1 = get_laplacian(img / 255.0)\n",
    "    # A, b = make_system(L1, sparse_bmap.T)\n",
    "    #\n",
    "    # bmap = scipy.sparse.linalg.spsolve(A, b).reshape(w, h).T\n",
    "\n",
    "    return bmap"
   ]
  },
  {
   "cell_type": "code",
   "execution_count": null,
   "metadata": {},
   "outputs": [],
   "source": []
  }
 ],
 "metadata": {
  "kernelspec": {
   "display_name": "Python 3",
   "language": "python",
   "name": "python3"
  },
  "language_info": {
   "codemirror_mode": {
    "name": "ipython",
    "version": 3
   },
   "file_extension": ".py",
   "mimetype": "text/x-python",
   "name": "python",
   "nbconvert_exporter": "python",
   "pygments_lexer": "ipython3",
   "version": "3.6.5"
  }
 },
 "nbformat": 4,
 "nbformat_minor": 2
}
